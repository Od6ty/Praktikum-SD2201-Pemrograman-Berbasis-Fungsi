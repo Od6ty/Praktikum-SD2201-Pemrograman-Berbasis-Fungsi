{
  "nbformat": 4,
  "nbformat_minor": 0,
  "metadata": {
    "colab": {
      "provenance": []
    },
    "kernelspec": {
      "name": "python3",
      "display_name": "Python 3"
    },
    "language_info": {
      "name": "python"
    }
  },
  "cells": [
    {
      "cell_type": "code",
      "execution_count": null,
      "metadata": {
        "colab": {
          "base_uri": "https://localhost:8080/"
        },
        "id": "FRQT_RoiHHbs",
        "outputId": "bf412804-8409-40cc-fe70-5f94ae0f9527"
      },
      "outputs": [
        {
          "output_type": "stream",
          "name": "stdout",
          "text": [
            "Hey!\n"
          ]
        }
      ],
      "source": [
        "# Python program to illustrate\n",
        "# nested functions\n",
        "def outerFunction(text):\n",
        "\n",
        "\tdef innerFunction():\n",
        "\t\tprint(text)\n",
        "\n",
        "\tinnerFunction()\n",
        "\n",
        "\n",
        "if __name__ == '__main__':\n",
        "\touterFunction('Hey!')\n"
      ]
    },
    {
      "cell_type": "code",
      "source": [
        "# Python program to illustrate\n",
        "# closures\n",
        "def outerFunction(text):\n",
        "\n",
        "\tdef innerFunction():\n",
        "\t\tprint(text)\n",
        "\n",
        "\t# Note we are returning function\n",
        "\t# WITHOUT parenthesis\n",
        "\treturn innerFunction\n",
        "\n",
        "if __name__ == '__main__':\n",
        "\tmyFunction = outerFunction('Hey!')\n",
        "\tmyFunction()\n"
      ],
      "metadata": {
        "colab": {
          "base_uri": "https://localhost:8080/"
        },
        "id": "kGfr0Le-IKc1",
        "outputId": "c3a49f93-5710-4ac6-8ae1-7abc41db661c"
      },
      "execution_count": null,
      "outputs": [
        {
          "output_type": "stream",
          "name": "stdout",
          "text": [
            "Hey!\n"
          ]
        }
      ]
    },
    {
      "cell_type": "code",
      "source": [
        "# Python program to illustrate\n",
        "# closures\n",
        "import logging\n",
        "logging.basicConfig(filename='example.log',\n",
        "\t\t\t\t\tlevel=logging.INFO)\n",
        "\n",
        "def logger(func):\n",
        "\tdef log_func(*args):\n",
        "\t\tlogging.info(\n",
        "\t\t\t'Running \"{}\" with arguments {}'.format(func.__name__,\n",
        "\t\t\t\t\t\t\t\t\t\t\t\t\targs))\n",
        "\t\tprint(func(*args))\n",
        "\n",
        "\t# Necessary for closure to\n",
        "\t# work (returning WITHOUT parenthesis)\n",
        "\treturn log_func\n",
        "\n",
        "def add(x, y):\n",
        "\treturn x+y\n",
        "\n",
        "def sub(x, y):\n",
        "\treturn x-y\n",
        "\n",
        "add_logger = logger(add)\n",
        "sub_logger = logger(sub)\n",
        "\n",
        "add_logger(3, 3)\n",
        "add_logger(4, 5)\n",
        "\n",
        "sub_logger(10, 5)\n",
        "sub_logger(20, 10)\n"
      ],
      "metadata": {
        "id": "JXtY14x8IhmK",
        "outputId": "5ba92fab-6edf-4cea-a1ce-6cfe811a054c",
        "colab": {
          "base_uri": "https://localhost:8080/"
        }
      },
      "execution_count": null,
      "outputs": [
        {
          "output_type": "stream",
          "name": "stdout",
          "text": [
            "6\n",
            "9\n",
            "5\n",
            "10\n"
          ]
        }
      ]
    },
    {
      "cell_type": "markdown",
      "source": [
        "**1. Implementasi dan Pengujian Model Ensemble**\n"
      ],
      "metadata": {
        "id": "tmcJxmgkcdBn"
      }
    },
    {
      "cell_type": "code",
      "source": [
        "# Persiapan Data\n",
        "from sklearn.datasets import load_iris\n",
        "from sklearn.model_selection import train_test_split\n",
        "\n",
        "iris = load_iris()\n",
        "X = iris.data\n",
        "y = iris.target\n",
        "\n",
        "X_train, X_test, y_train, y_test = train_test_split(X, y, test_size=0.2, random_state=42)"
      ],
      "metadata": {
        "id": "EzjOGxuecqZa"
      },
      "execution_count": 4,
      "outputs": []
    },
    {
      "cell_type": "code",
      "source": [
        "# Pemilihan Model\n",
        "from sklearn.tree import DecisionTreeClassifier\n",
        "from sklearn.ensemble import RandomForestClassifier, GradientBoostingClassifier\n",
        "\n",
        "model_dt = DecisionTreeClassifier(random_state=42)\n",
        "model_rf = RandomForestClassifier(random_state=42)\n",
        "model_gb = GradientBoostingClassifier(random_state=42)"
      ],
      "metadata": {
        "id": "Qt2U7xNqc01G"
      },
      "execution_count": 5,
      "outputs": []
    },
    {
      "cell_type": "code",
      "source": [
        "# Pelatihan Model\n",
        "model_dt.fit(X_train, y_train)\n",
        "model_rf.fit(X_train, y_train)\n",
        "model_gb.fit(X_train, y_train)"
      ],
      "metadata": {
        "colab": {
          "base_uri": "https://localhost:8080/",
          "height": 75
        },
        "id": "gHMW1p0SdALN",
        "outputId": "a59d3404-fa89-42a8-f86f-8595b81e7b0f"
      },
      "execution_count": 6,
      "outputs": [
        {
          "output_type": "execute_result",
          "data": {
            "text/plain": [
              "GradientBoostingClassifier(random_state=42)"
            ],
            "text/html": [
              "<style>#sk-container-id-1 {color: black;background-color: white;}#sk-container-id-1 pre{padding: 0;}#sk-container-id-1 div.sk-toggleable {background-color: white;}#sk-container-id-1 label.sk-toggleable__label {cursor: pointer;display: block;width: 100%;margin-bottom: 0;padding: 0.3em;box-sizing: border-box;text-align: center;}#sk-container-id-1 label.sk-toggleable__label-arrow:before {content: \"▸\";float: left;margin-right: 0.25em;color: #696969;}#sk-container-id-1 label.sk-toggleable__label-arrow:hover:before {color: black;}#sk-container-id-1 div.sk-estimator:hover label.sk-toggleable__label-arrow:before {color: black;}#sk-container-id-1 div.sk-toggleable__content {max-height: 0;max-width: 0;overflow: hidden;text-align: left;background-color: #f0f8ff;}#sk-container-id-1 div.sk-toggleable__content pre {margin: 0.2em;color: black;border-radius: 0.25em;background-color: #f0f8ff;}#sk-container-id-1 input.sk-toggleable__control:checked~div.sk-toggleable__content {max-height: 200px;max-width: 100%;overflow: auto;}#sk-container-id-1 input.sk-toggleable__control:checked~label.sk-toggleable__label-arrow:before {content: \"▾\";}#sk-container-id-1 div.sk-estimator input.sk-toggleable__control:checked~label.sk-toggleable__label {background-color: #d4ebff;}#sk-container-id-1 div.sk-label input.sk-toggleable__control:checked~label.sk-toggleable__label {background-color: #d4ebff;}#sk-container-id-1 input.sk-hidden--visually {border: 0;clip: rect(1px 1px 1px 1px);clip: rect(1px, 1px, 1px, 1px);height: 1px;margin: -1px;overflow: hidden;padding: 0;position: absolute;width: 1px;}#sk-container-id-1 div.sk-estimator {font-family: monospace;background-color: #f0f8ff;border: 1px dotted black;border-radius: 0.25em;box-sizing: border-box;margin-bottom: 0.5em;}#sk-container-id-1 div.sk-estimator:hover {background-color: #d4ebff;}#sk-container-id-1 div.sk-parallel-item::after {content: \"\";width: 100%;border-bottom: 1px solid gray;flex-grow: 1;}#sk-container-id-1 div.sk-label:hover label.sk-toggleable__label {background-color: #d4ebff;}#sk-container-id-1 div.sk-serial::before {content: \"\";position: absolute;border-left: 1px solid gray;box-sizing: border-box;top: 0;bottom: 0;left: 50%;z-index: 0;}#sk-container-id-1 div.sk-serial {display: flex;flex-direction: column;align-items: center;background-color: white;padding-right: 0.2em;padding-left: 0.2em;position: relative;}#sk-container-id-1 div.sk-item {position: relative;z-index: 1;}#sk-container-id-1 div.sk-parallel {display: flex;align-items: stretch;justify-content: center;background-color: white;position: relative;}#sk-container-id-1 div.sk-item::before, #sk-container-id-1 div.sk-parallel-item::before {content: \"\";position: absolute;border-left: 1px solid gray;box-sizing: border-box;top: 0;bottom: 0;left: 50%;z-index: -1;}#sk-container-id-1 div.sk-parallel-item {display: flex;flex-direction: column;z-index: 1;position: relative;background-color: white;}#sk-container-id-1 div.sk-parallel-item:first-child::after {align-self: flex-end;width: 50%;}#sk-container-id-1 div.sk-parallel-item:last-child::after {align-self: flex-start;width: 50%;}#sk-container-id-1 div.sk-parallel-item:only-child::after {width: 0;}#sk-container-id-1 div.sk-dashed-wrapped {border: 1px dashed gray;margin: 0 0.4em 0.5em 0.4em;box-sizing: border-box;padding-bottom: 0.4em;background-color: white;}#sk-container-id-1 div.sk-label label {font-family: monospace;font-weight: bold;display: inline-block;line-height: 1.2em;}#sk-container-id-1 div.sk-label-container {text-align: center;}#sk-container-id-1 div.sk-container {/* jupyter's `normalize.less` sets `[hidden] { display: none; }` but bootstrap.min.css set `[hidden] { display: none !important; }` so we also need the `!important` here to be able to override the default hidden behavior on the sphinx rendered scikit-learn.org. See: https://github.com/scikit-learn/scikit-learn/issues/21755 */display: inline-block !important;position: relative;}#sk-container-id-1 div.sk-text-repr-fallback {display: none;}</style><div id=\"sk-container-id-1\" class=\"sk-top-container\"><div class=\"sk-text-repr-fallback\"><pre>GradientBoostingClassifier(random_state=42)</pre><b>In a Jupyter environment, please rerun this cell to show the HTML representation or trust the notebook. <br />On GitHub, the HTML representation is unable to render, please try loading this page with nbviewer.org.</b></div><div class=\"sk-container\" hidden><div class=\"sk-item\"><div class=\"sk-estimator sk-toggleable\"><input class=\"sk-toggleable__control sk-hidden--visually\" id=\"sk-estimator-id-1\" type=\"checkbox\" checked><label for=\"sk-estimator-id-1\" class=\"sk-toggleable__label sk-toggleable__label-arrow\">GradientBoostingClassifier</label><div class=\"sk-toggleable__content\"><pre>GradientBoostingClassifier(random_state=42)</pre></div></div></div></div></div>"
            ]
          },
          "metadata": {},
          "execution_count": 6
        }
      ]
    },
    {
      "cell_type": "code",
      "source": [
        "# Pembuatan Ensemble\n",
        "from sklearn.ensemble import VotingClassifier\n",
        "\n",
        "ensemble = VotingClassifier(estimators=[\n",
        "    ('dt', model_dt),\n",
        "    ('rf', model_rf),\n",
        "    ('gb', model_gb)\n",
        "], voting='hard')"
      ],
      "metadata": {
        "id": "3x6a5JWmdHLK"
      },
      "execution_count": 7,
      "outputs": []
    },
    {
      "cell_type": "code",
      "source": [
        "# Pengujian Model Ensemble\n",
        "ensemble.fit(X_train, y_train)\n",
        "ensemble_score = ensemble.score(X_test, y_test)\n",
        "print(f\"Accuracy of Ensemble: {ensemble_score}\")"
      ],
      "metadata": {
        "colab": {
          "base_uri": "https://localhost:8080/"
        },
        "id": "xPtIVLy7dMgl",
        "outputId": "313b5704-3c2e-4f4c-a509-29f82cecacb5"
      },
      "execution_count": 8,
      "outputs": [
        {
          "output_type": "stream",
          "name": "stdout",
          "text": [
            "Accuracy of Ensemble: 1.0\n"
          ]
        }
      ]
    },
    {
      "cell_type": "markdown",
      "source": [
        "**2. Validasi dan Optimalisasi**"
      ],
      "metadata": {
        "id": "6eO3EVAkltK9"
      }
    },
    {
      "cell_type": "code",
      "source": [
        "from sklearn.model_selection import GridSearchCV\n",
        "\n",
        "params = {\n",
        "    'rf__n_estimators': [50, 100, 200],\n",
        "    'gb__n_estimators': [50, 100, 200],\n",
        "    'gb__learning_rate': [0.05, 0.1, 0.2]\n",
        "}\n",
        "\n",
        "grid_search = GridSearchCV(estimator=ensemble, param_grid=params, cv=3)\n",
        "grid_search.fit(X_train, y_train)\n",
        "\n",
        "best_params = grid_search.best_params_\n",
        "best_score = grid_search.best_score_\n",
        "\n",
        "print(f\"Best Parameters: {best_params}\")\n",
        "print(f\"Best Cross-Validation Score: {best_score}\")"
      ],
      "metadata": {
        "colab": {
          "base_uri": "https://localhost:8080/"
        },
        "id": "YlN8GdYslsYr",
        "outputId": "7799ad24-0296-446e-dbc7-a5b905c390a6"
      },
      "execution_count": 9,
      "outputs": [
        {
          "output_type": "stream",
          "name": "stdout",
          "text": [
            "Best Parameters: {'gb__learning_rate': 0.05, 'gb__n_estimators': 50, 'rf__n_estimators': 50}\n",
            "Best Cross-Validation Score: 0.9333333333333332\n"
          ]
        }
      ]
    }
  ]
}
