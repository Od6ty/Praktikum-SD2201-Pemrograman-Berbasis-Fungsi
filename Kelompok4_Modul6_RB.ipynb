{
  "nbformat": 4,
  "nbformat_minor": 0,
  "metadata": {
    "colab": {
      "provenance": []
    },
    "kernelspec": {
      "name": "python3",
      "display_name": "Python 3"
    },
    "language_info": {
      "name": "python"
    }
  },
  "cells": [
    {
      "cell_type": "code",
      "execution_count": 1,
      "metadata": {
        "colab": {
          "base_uri": "https://localhost:8080/"
        },
        "id": "tLG1HgtjL4ZH",
        "outputId": "27c80852-5784-4d8d-f5be-444635c406cc"
      },
      "outputs": [
        {
          "output_type": "stream",
          "name": "stdout",
          "text": [
            "Jumlah bilangan genap dalam data: 5\n"
          ]
        }
      ],
      "source": [
        "# Higher order function untuk menghitung jumlah elemen yang memenuhi kondisi tertentu\n",
        "def hitung_elemen(data, kondisi):\n",
        "    # Menggunakan list comprehension untuk menyaring elemen yang memenuhi kondisi\n",
        "    filtered_data = [item for item in data if kondisi(item)]\n",
        "    # Mengembalikan jumlah elemen yang memenuhi kondisi\n",
        "    return len(filtered_data)\n",
        "\n",
        "# Contoh penggunaan higher order function\n",
        "data = [10, 20, 30, 40, 50]\n",
        "\n",
        "# Fungsi kondisi untuk bilangan genap\n",
        "def kondisi_genap(x):\n",
        "    return x % 2 == 0\n",
        "\n",
        "# Hitung jumlah bilangan genap dalam data menggunakan higher order function\n",
        "jumlah_genap = hitung_elemen(data, kondisi_genap)\n",
        "\n",
        "# Tampilkan hasil\n",
        "print(\"Jumlah bilangan genap dalam data:\", jumlah_genap)"
      ]
    },
    {
      "cell_type": "code",
      "source": [
        "# Filtering Berdasarkan Kriteria\n",
        "def filter_data(data, kondisi):\n",
        "    return list(filter(kondisi, data))\n",
        "\n",
        "data = [\"apel\", \"jeruk\", \"nanas\", \"pisang\", \"anggur\"]\n",
        "kata_pjg = filter_data(data, lambda x: len(x) > 5)\n",
        "print(\"Kata dengan panjang lebih dari 5 karakter:\", kata_pjg)"
      ],
      "metadata": {
        "colab": {
          "base_uri": "https://localhost:8080/"
        },
        "id": "iYuIHXYjMXsq",
        "outputId": "ab68072e-d12c-4129-deca-3b07d10a0785"
      },
      "execution_count": 2,
      "outputs": [
        {
          "output_type": "stream",
          "name": "stdout",
          "text": [
            "Kata dengan panjang lebih dari 5 karakter: ['pisang', 'anggur']\n"
          ]
        }
      ]
    },
    {
      "cell_type": "code",
      "source": [
        "# Transformasi Data dengan Mapping\n",
        "def map_data(data, transformasi):\n",
        "    return list(map(transformasi, data))\n",
        "\n",
        "data = [1, 2, 3, 4, 5]\n",
        "data_kuadrat = map_data(data, lambda x: x ** 2)\n",
        "print(\"Data setelah dipangkatkan dua:\", data_kuadrat)"
      ],
      "metadata": {
        "colab": {
          "base_uri": "https://localhost:8080/"
        },
        "id": "JJutsouRNU62",
        "outputId": "a5d2a5d4-8d9e-461d-bd65-2616661581ee"
      },
      "execution_count": 3,
      "outputs": [
        {
          "output_type": "stream",
          "name": "stdout",
          "text": [
            "Data setelah dipangkatkan dua: [1, 4, 9, 16, 25]\n"
          ]
        }
      ]
    }
  ]
}
